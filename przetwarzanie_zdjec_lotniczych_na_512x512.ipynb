{
 "cells": [
  {
   "cell_type": "code",
   "execution_count": null,
   "id": "55989df5-558c-4294-8b32-e192f629d7b0",
   "metadata": {},
   "outputs": [],
   "source": [
    "from PIL import Image\n",
    "import os\n",
    "from patchify import patchify\n",
    "import tifffile as tiff\n",
    "import numpy as np"
   ]
  },
  {
   "cell_type": "code",
   "execution_count": null,
   "id": "a6e41c3b-089b-4a77-b637-e6741192786b",
   "metadata": {},
   "outputs": [],
   "source": [
    "#przetwarza zdjęcia na czarnobiałe, na takich był uczony model\n",
    "DATA_PATH = \"your_path_to_aerial_photos\"\n",
    "limit = 0\n",
    "\n",
    "for i in os.listdir(DATA_PATH):\n",
    "    for x in os.listdir(DATA_PATH+i+\"/\"):\n",
    "        img = Image.open(DATA_PATH+i+\"/\"+x).convert(\"RGBA\")\n",
    "        bgimg = Image.new(\"RGBA\", img.size, \"WHITE\")\n",
    "        fix= Image.alpha_composite(bgimg, img)\n",
    "        fix.save(DATA_PATH+i+\"/\"+x)\n",
    "        img = Image.open(DATA_PATH+i+\"/\"+x)\n",
    "        img = img.convert(\"L\")\n",
    "        img.save(DATA_PATH+i+\"/\"+x)\n",
    "        img = Image.open(DATA_PATH+i+\"/\"+x)\n",
    "        img = img.convert(\"RGB\")\n",
    "        img.save(DATA_PATH+i+\"/\"+x)\n",
    "        print(x)\n",
    "    limit +=1\n",
    "    print(limit)"
   ]
  },
  {
   "cell_type": "code",
   "execution_count": null,
   "id": "eb2e61f8-20aa-4feb-b20a-f2105f6f34ca",
   "metadata": {},
   "outputs": [],
   "source": [
    "#znajduje najbliższy rozmiar obrazu większy od obrazu zdjęcia lotniczego lub jemu równy,\n",
    "#a następnie tworzy białe tło i nakłada na nie zdjęcie lotnicze\n",
    "def image_512div(img, path):\n",
    "    if ((img.size[0])%512 != 0) or ((img.size[1])%512 != 0):\n",
    "        size_x = (int(img.size[0] / 512) + (img.size[0] % 512 > 0))*512\n",
    "        size_y = (int(img.size[1] / 512) + (img.size[1] % 512 > 0))*512\n",
    "        print(str(size_x)+\", \"+str(size_y))\n",
    "        bgimg = Image.new(\"RGBA\", [size_x,size_y], \"WHITE\")\n",
    "        bgimg.paste(img,[0,0])\n",
    "        bgimg.save(path)"
   ]
  },
  {
   "cell_type": "code",
   "execution_count": null,
   "id": "4a1aba6c-058c-4520-85b8-6626a3364fbe",
   "metadata": {},
   "outputs": [],
   "source": [
    "#tworzy fragmenty zdjecia lotniczego rozmiarow 512 na 512 pikseli i zapisuje je w istniejacych folderach i tworzy\n",
    "#foldery do zapisu jesli ich nie ma\n",
    "#istnieje przy zalozeniu struktury sciezki do plikow dysk/.../folder z folderami/folder ze zdjeciami konkretnego jeziora\n",
    "DATA_PATH = \"your_path_to_aerial_photos\"\n",
    "limit = 0\n",
    "for i in os.listdir(DATA_PATH):\n",
    "    for x in os.listdir(DATA_PATH+i+\"/\"):\n",
    "        img = Image.open(DATA_PATH+i+\"/\"+x).convert(\"RGB\")\n",
    "        image_512div(img,(DATA_PATH+i+\"/\"+x))\n",
    "        large_img = Image.open(DATA_PATH+i+\"/\"+x).convert(\"RGB\")\n",
    "        large_img = np.array(large_img)\n",
    "        patches_img = patchify(large_img, (512,512,3), step=512)\n",
    "        patches_img=np.squeeze(patches_img)\n",
    "        if(len(patches_img.shape)>3):\n",
    "            for j in range(patches_img.shape[0]):\n",
    "                for k in range(patches_img.shape[1]):\n",
    "                    single_patch = patches_img[j,k,:]\n",
    "                    directory = (\"your_path_to_output_folder_for_patched_images\"+i)\n",
    "                    if not os.path.exists(directory):\n",
    "                        os.makedirs(directory)\n",
    "                    tiff.imwrite(directory+\"/\"+\"_\"+str(j)+\"_\"+str(k)+x, single_patch)\n",
    "        else:\n",
    "            directory = (\"your_path_to_output_folder_for_patched_images/\"+i)\n",
    "            if not os.path.exists(directory):\n",
    "                        os.makedirs(directory)\n",
    "            tiff.imwrite(directory+\"/\"+\"_\"+str(j)+\"_\"+str(k)+x, large_img)\n",
    "    limit +=1\n",
    "    print(\"folder: \"+str(limit))\n",
    "    #if limit == \"insert your number of folders you want to go through here\":\n",
    "    #    break"
   ]
  }
 ],
 "metadata": {
  "kernelspec": {
   "display_name": "mlds",
   "language": "python",
   "name": "mlds"
  },
  "language_info": {
   "codemirror_mode": {
    "name": "ipython",
    "version": 3
   },
   "file_extension": ".py",
   "mimetype": "text/x-python",
   "name": "python",
   "nbconvert_exporter": "python",
   "pygments_lexer": "ipython3",
   "version": "3.12.3"
  }
 },
 "nbformat": 4,
 "nbformat_minor": 5
}
